{
 "cells": [
  {
   "cell_type": "code",
   "execution_count": 3,
   "id": "934186dd-ab21-40ea-8653-4c98f2d66e7e",
   "metadata": {},
   "outputs": [
    {
     "data": {
      "text/html": [
       "<div>\n",
       "<style scoped>\n",
       "    .dataframe tbody tr th:only-of-type {\n",
       "        vertical-align: middle;\n",
       "    }\n",
       "\n",
       "    .dataframe tbody tr th {\n",
       "        vertical-align: top;\n",
       "    }\n",
       "\n",
       "    .dataframe thead th {\n",
       "        text-align: right;\n",
       "    }\n",
       "</style>\n",
       "<table border=\"1\" class=\"dataframe\">\n",
       "  <thead>\n",
       "    <tr style=\"text-align: right;\">\n",
       "      <th></th>\n",
       "      <th>Pays</th>\n",
       "      <th>Age</th>\n",
       "      <th>Genre</th>\n",
       "      <th>Dépenses des clients</th>\n",
       "    </tr>\n",
       "  </thead>\n",
       "  <tbody>\n",
       "    <tr>\n",
       "      <th>0</th>\n",
       "      <td>France</td>\n",
       "      <td>32</td>\n",
       "      <td>Female</td>\n",
       "      <td>150.50</td>\n",
       "    </tr>\n",
       "    <tr>\n",
       "      <th>1</th>\n",
       "      <td>Germany</td>\n",
       "      <td>45</td>\n",
       "      <td>Male</td>\n",
       "      <td>200.75</td>\n",
       "    </tr>\n",
       "    <tr>\n",
       "      <th>2</th>\n",
       "      <td>Spain</td>\n",
       "      <td>28</td>\n",
       "      <td>Female</td>\n",
       "      <td>75.25</td>\n",
       "    </tr>\n",
       "    <tr>\n",
       "      <th>3</th>\n",
       "      <td>Italy</td>\n",
       "      <td>39</td>\n",
       "      <td>Male</td>\n",
       "      <td>180.00</td>\n",
       "    </tr>\n",
       "    <tr>\n",
       "      <th>4</th>\n",
       "      <td>UK</td>\n",
       "      <td>52</td>\n",
       "      <td>Female</td>\n",
       "      <td>250.30</td>\n",
       "    </tr>\n",
       "  </tbody>\n",
       "</table>\n",
       "</div>"
      ],
      "text/plain": [
       "      Pays  Age    Genre Dépenses des clients\n",
       "0   France    32  Female               150.50\n",
       "1  Germany    45    Male               200.75\n",
       "2    Spain    28  Female                75.25\n",
       "3    Italy    39    Male               180.00\n",
       "4       UK    52  Female               250.30"
      ]
     },
     "execution_count": 3,
     "metadata": {},
     "output_type": "execute_result"
    }
   ],
   "source": [
    "import pandas as pd\n",
    "\n",
    "# Lire les données du fichier Excel\n",
    "df = pd.read_excel('data-sell4all.xlsx')\n",
    "\n",
    "# Afficher les 5 premières lignes\n",
    "df.head()"
   ]
  },
  {
   "cell_type": "code",
   "execution_count": 5,
   "id": "d30279eb-0987-4967-9572-c9f5cde3a9e9",
   "metadata": {},
   "outputs": [
    {
     "name": "stdout",
     "output_type": "stream",
     "text": [
      "<class 'pandas.core.frame.DataFrame'>\n",
      "RangeIndex: 65 entries, 0 to 64\n",
      "Data columns (total 4 columns):\n",
      " #   Column                Non-Null Count  Dtype \n",
      "---  ------                --------------  ----- \n",
      " 0   Pays                  65 non-null     object\n",
      " 1    Age                  62 non-null     object\n",
      " 2   Genre                 64 non-null     object\n",
      " 3   Dépenses des clients  63 non-null     object\n",
      "dtypes: object(4)\n",
      "memory usage: 2.2+ KB\n"
     ]
    },
    {
     "data": {
      "text/html": [
       "<div>\n",
       "<style scoped>\n",
       "    .dataframe tbody tr th:only-of-type {\n",
       "        vertical-align: middle;\n",
       "    }\n",
       "\n",
       "    .dataframe tbody tr th {\n",
       "        vertical-align: top;\n",
       "    }\n",
       "\n",
       "    .dataframe thead th {\n",
       "        text-align: right;\n",
       "    }\n",
       "</style>\n",
       "<table border=\"1\" class=\"dataframe\">\n",
       "  <thead>\n",
       "    <tr style=\"text-align: right;\">\n",
       "      <th></th>\n",
       "      <th>Pays</th>\n",
       "      <th>Age</th>\n",
       "      <th>Genre</th>\n",
       "      <th>Dépenses des clients</th>\n",
       "    </tr>\n",
       "  </thead>\n",
       "  <tbody>\n",
       "    <tr>\n",
       "      <th>count</th>\n",
       "      <td>65</td>\n",
       "      <td>62</td>\n",
       "      <td>64</td>\n",
       "      <td>63</td>\n",
       "    </tr>\n",
       "    <tr>\n",
       "      <th>unique</th>\n",
       "      <td>20</td>\n",
       "      <td>40</td>\n",
       "      <td>12</td>\n",
       "      <td>59</td>\n",
       "    </tr>\n",
       "    <tr>\n",
       "      <th>top</th>\n",
       "      <td>France</td>\n",
       "      <td>28</td>\n",
       "      <td>Female</td>\n",
       "      <td>195.25</td>\n",
       "    </tr>\n",
       "    <tr>\n",
       "      <th>freq</th>\n",
       "      <td>10</td>\n",
       "      <td>3</td>\n",
       "      <td>27</td>\n",
       "      <td>2</td>\n",
       "    </tr>\n",
       "  </tbody>\n",
       "</table>\n",
       "</div>"
      ],
      "text/plain": [
       "          Pays   Age    Genre Dépenses des clients\n",
       "count       65     62      64                   63\n",
       "unique      20     40      12                   59\n",
       "top     France     28  Female               195.25\n",
       "freq        10      3      27                    2"
      ]
     },
     "execution_count": 5,
     "metadata": {},
     "output_type": "execute_result"
    }
   ],
   "source": [
    "# Afficher un résumé technique des données\n",
    "df.info()\n",
    "\n",
    "# Afficher des statistiques descriptives pour les données numériques\n",
    "df.describe()"
   ]
  },
  {
   "cell_type": "code",
   "execution_count": 15,
   "id": "ad74d198-5ad8-4a3f-9879-a2a8d6bd8fff",
   "metadata": {},
   "outputs": [
    {
     "name": "stdout",
     "output_type": "stream",
     "text": [
      "object\n",
      "[32 45 28 39 52 22 36 41 29 48 35 27 50 33 44 31 38 26 47 30 42 55 25 49\n",
      " 34 40 23 51 37 43 46 nan 53 -100 150 1000 11 0 '∞' '25;30'\n",
      " 'Not Available']\n"
     ]
    }
   ],
   "source": [
    "print(df[' Age '].dtype)\n",
    "print(df[' Age '].unique())  # Affiche toutes les valeurs uniques de la colonne"
   ]
  },
  {
   "cell_type": "code",
   "execution_count": 17,
   "id": "cd119260-992d-4c47-b040-a8340c48cc6f",
   "metadata": {},
   "outputs": [],
   "source": [
    "df['Age'] = pd.to_numeric(df[' Age '], errors='coerce')"
   ]
  },
  {
   "cell_type": "code",
   "execution_count": 19,
   "id": "d13ea6e4-b096-42c8-bf95-87ddd9c513ca",
   "metadata": {},
   "outputs": [],
   "source": [
    "df['Age'].dropna(inplace=True)  # Supprime les lignes avec des NaN dans 'Age'"
   ]
  },
  {
   "cell_type": "code",
   "execution_count": 21,
   "id": "72f92f04-4170-4202-adb2-4c7703ec29a7",
   "metadata": {},
   "outputs": [
    {
     "name": "stdout",
     "output_type": "stream",
     "text": [
      "Moyenne de l'âge : 52.42372881355932\n",
      "Médiane de l'âge : 36.0\n"
     ]
    }
   ],
   "source": [
    "age_mean = df['Age'].mean()\n",
    "age_median = df['Age'].median()\n",
    "\n",
    "print(f\"Moyenne de l'âge : {age_mean}\")\n",
    "print(f\"Médiane de l'âge : {age_median}\")"
   ]
  },
  {
   "cell_type": "code",
   "execution_count": 25,
   "id": "9942dea7-4208-48ef-bbff-329076ff04e4",
   "metadata": {},
   "outputs": [
    {
     "name": "stdout",
     "output_type": "stream",
     "text": [
      "object\n",
      "['150.50' '200.75' '75.25' '180.00' '250.30' '90.00' '175.50' '120.75'\n",
      " '95.25' '220.00' '160.25' '85.50' '190.75' '140.00' '210.50' '130.25'\n",
      " '170.00' '5.75' '200.25' '110.50' '180.75' '100.25' '230.00' '150.75'\n",
      " '80.50' '215.25' '145.00' '70.25' '240.75' '165.00' '195.25' '85.75'\n",
      " '205.50' '135.25' '120.00' '225.75' '155.50' '90.25' '210.00' '170.25'\n",
      " '125.75' '190.00' '75.50' '220.25' '160.75' '185.00' '105.25' '235.50'\n",
      " '140.25' nan '145.75' '999999.99' '0.01' '500.00' '100 Galleons'\n",
      " '50 Turkish Delights' '1010101.01' 'π' '100+200' 'Priceless']\n"
     ]
    }
   ],
   "source": [
    "print(df['Dépenses des clients'].dtype)\n",
    "print(df['Dépenses des clients'].unique())  # Affiche les valeurs uniques pour détecter les anomalies"
   ]
  },
  {
   "cell_type": "code",
   "execution_count": 27,
   "id": "2435d630-9e0a-431d-943f-a4eb516de113",
   "metadata": {},
   "outputs": [],
   "source": [
    "df['Dépenses des clients'] = pd.to_numeric(df['Dépenses des clients'], errors='coerce')"
   ]
  },
  {
   "cell_type": "code",
   "execution_count": 29,
   "id": "7183b42e-c08c-40ca-bf88-9b43b3467044",
   "metadata": {},
   "outputs": [],
   "source": [
    "df.dropna(subset=['Dépenses des clients'], inplace=True)"
   ]
  },
  {
   "cell_type": "code",
   "execution_count": 31,
   "id": "90274b3e-c15c-42e4-8f92-ef07d5c99713",
   "metadata": {},
   "outputs": [
    {
     "data": {
      "image/png": "[encoded data removed]",
      "text/plain": [
       "<Figure size 1000x600 with 1 Axes>"
      ]
     },
     "metadata": {},
     "output_type": "display_data"
    }
   ],
   "source": [
    "import matplotlib.pyplot as plt\n",
    "\n",
    "# Créer un graphique à barres des dépenses des clients par pays\n",
    "df.groupby('Pays')['Dépenses des clients'].sum().plot(kind='bar', figsize=(10, 6))\n",
    "plt.title('Dépenses des clients par pays')\n",
    "plt.xlabel('Pays')\n",
    "plt.ylabel('Total des dépenses des clients')\n",
    "plt.show()"
   ]
  },
  {
   "cell_type": "code",
   "execution_count": 33,
   "id": "00b4cb23-4e68-4a58-9624-1db1268aa28c",
   "metadata": {},
   "outputs": [],
   "source": [
    "df_cleaned = df[df['Dépenses des clients'] >= 10]\n"
   ]
  },
  {
   "cell_type": "code",
   "execution_count": 35,
   "id": "9fefdfd4-dc86-4ffe-a763-2d44d84dd01c",
   "metadata": {},
   "outputs": [],
   "source": [
    "df_cleaned = df_cleaned.drop_duplicates()\n"
   ]
  },
  {
   "cell_type": "code",
   "execution_count": 39,
   "id": "0a9afc2a-bc51-426a-b776-ba0c2f8478c5",
   "metadata": {},
   "outputs": [],
   "source": [
    "# Enregistrer les données nettoyées dans un nouveau fichier Excel\n",
    "df_cleaned[['Pays', ' Age ', 'Genre', 'Dépenses des clients']].to_excel('data-sell4all-cleaned.xlsx', index=False)\n"
   ]
  },
  {
   "cell_type": "code",
   "execution_count": null,
   "id": "e126b054-30a2-45eb-9726-5660f6f58ee2",
   "metadata": {},
   "outputs": [],
   "source": []
  }
 ],
 "metadata": {
  "kernelspec": {
   "display_name": "Python 3 (ipykernel)",
   "language": "python",
   "name": "python3"
  },
  "language_info": {
   "codemirror_mode": {
    "name": "ipython",
    "version": 3
   },
   "file_extension": ".py",
   "mimetype": "text/x-python",
   "name": "python",
   "nbconvert_exporter": "python",
   "pygments_lexer": "ipython3",
   "version": "3.12.4"
  }
 },
 "nbformat": 4,
 "nbformat_minor": 5
}
